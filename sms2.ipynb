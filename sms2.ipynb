{
 "metadata": {
  "name": "",
  "signature": "sha256:18c6c934a364f13ca248cf07f60a8ba4d93b80575a87f5ac7d80be6d7cbdf863"
 },
 "nbformat": 3,
 "nbformat_minor": 0,
 "worksheets": [
  {
   "cells": [
    {
     "cell_type": "code",
     "collapsed": false,
     "input": [
      "import sklearn as skl\n",
      "import numpy as np\n",
      "from textblob import TextBlob as tb\n",
      "import nltk\n"
     ],
     "language": "python",
     "metadata": {},
     "outputs": [],
     "prompt_number": 31
    },
    {
     "cell_type": "code",
     "collapsed": false,
     "input": [
      "with open(\"SMSSpamCollection\") as f:\n",
      "    full_collection = f.readlines()\n",
      "    "
     ],
     "language": "python",
     "metadata": {},
     "outputs": [],
     "prompt_number": 32
    },
    {
     "cell_type": "code",
     "collapsed": false,
     "input": [
      "full_collection = [i.lower() for i in full_collection]"
     ],
     "language": "python",
     "metadata": {},
     "outputs": [],
     "prompt_number": 33
    },
    {
     "cell_type": "code",
     "collapsed": false,
     "input": [
      "lines = [tb(sentence) for sentence in full_collection]"
     ],
     "language": "python",
     "metadata": {},
     "outputs": [],
     "prompt_number": 34
    },
    {
     "cell_type": "code",
     "collapsed": false,
     "input": [],
     "language": "python",
     "metadata": {},
     "outputs": [],
     "prompt_number": 34
    },
    {
     "cell_type": "code",
     "collapsed": false,
     "input": [
      "ham = [blob for blob in lines if blob.words[0] == \"ham\"]"
     ],
     "language": "python",
     "metadata": {},
     "outputs": [],
     "prompt_number": 35
    },
    {
     "cell_type": "code",
     "collapsed": false,
     "input": [
      "spam = [blob for blob in lines if blob.words[0] == \"spam\"]"
     ],
     "language": "python",
     "metadata": {},
     "outputs": [],
     "prompt_number": 36
    },
    {
     "cell_type": "code",
     "collapsed": false,
     "input": [
      "def one_or_zero(blob):\n",
      "    if blob.words[0] == \"spam\":\n",
      "        return 1\n",
      "    else:\n",
      "        return 0"
     ],
     "language": "python",
     "metadata": {},
     "outputs": [],
     "prompt_number": 37
    },
    {
     "cell_type": "code",
     "collapsed": false,
     "input": [
      "import operator\n",
      "import collections\n",
      "\n",
      "\n",
      "def common_words(blob_list, num):\n",
      "    word_dictionary = collections.Counter()\n",
      "    for blob in blob_list:\n",
      "        for word in blob.words:\n",
      "            if word in word_dictionary.keys():\n",
      "                word_dictionary[word] += 1\n",
      "            else:\n",
      "                word_dictionary[word] = 1\n",
      "    most_common = word_dictionary.most_common(num)[1:]\n",
      "    return most_common"
     ],
     "language": "python",
     "metadata": {},
     "outputs": [],
     "prompt_number": 38
    },
    {
     "cell_type": "code",
     "collapsed": false,
     "input": [
      "spam_words = common_words(spam, 1000)"
     ],
     "language": "python",
     "metadata": {},
     "outputs": [],
     "prompt_number": 39
    },
    {
     "cell_type": "code",
     "collapsed": false,
     "input": [
      "ham_words = common_words(ham, 1000)"
     ],
     "language": "python",
     "metadata": {},
     "outputs": [],
     "prompt_number": 40
    },
    {
     "cell_type": "code",
     "collapsed": false,
     "input": [
      "def unique_words_spam(length):\n",
      "    return list(set(spam_words) - set(ham_words))"
     ],
     "language": "python",
     "metadata": {},
     "outputs": [],
     "prompt_number": 41
    },
    {
     "cell_type": "code",
     "collapsed": false,
     "input": [
      "def unique_words_ham(length):\n",
      "    return list(set(ham_words) - set(spam_words))"
     ],
     "language": "python",
     "metadata": {},
     "outputs": [],
     "prompt_number": 42
    },
    {
     "cell_type": "code",
     "collapsed": false,
     "input": [
      "top_ham = unique_words_ham(100)"
     ],
     "language": "python",
     "metadata": {},
     "outputs": [],
     "prompt_number": 43
    },
    {
     "cell_type": "code",
     "collapsed": false,
     "input": [
      "top_spam = unique_words_spam(100)"
     ],
     "language": "python",
     "metadata": {},
     "outputs": [],
     "prompt_number": 44
    },
    {
     "cell_type": "code",
     "collapsed": false,
     "input": [
      "currency = ['\u00a3', '$', '\u00a2']"
     ],
     "language": "python",
     "metadata": {},
     "outputs": [],
     "prompt_number": 45
    },
    {
     "cell_type": "code",
     "collapsed": false,
     "input": [
      "from sklearn.cross_validation import train_test_split\n",
      "from sklearn.naive_bayes import GaussianNB\n",
      "from sklearn import metrics\n",
      "from sklearn.cross_validation import cross_val_score\n",
      "import pandas as pd\n",
      "import numpy as np"
     ],
     "language": "python",
     "metadata": {},
     "outputs": [],
     "prompt_number": 46
    },
    {
     "cell_type": "code",
     "collapsed": false,
     "input": [
      "def one_or_zero(blob):\n",
      "    if blob.words[0] == \"spam\":\n",
      "        return 1\n",
      "    else:\n",
      "        return 0"
     ],
     "language": "python",
     "metadata": {},
     "outputs": [],
     "prompt_number": 47
    },
    {
     "cell_type": "code",
     "collapsed": false,
     "input": [
      "spam_or_ham = np.array([one_or_zero(blob) for blob in lines])"
     ],
     "language": "python",
     "metadata": {},
     "outputs": [],
     "prompt_number": 49
    },
    {
     "cell_type": "code",
     "collapsed": false,
     "input": [
      "def words_in_list(blob, lst):\n",
      "    \"\"\"Returns count of times word is in a list\"\"\"\n",
      "    word_count = 0\n",
      "    for word in blob.words:\n",
      "        if word in lst:\n",
      "            word_count += 1\n",
      "    return word_count\n"
     ],
     "language": "python",
     "metadata": {},
     "outputs": [],
     "prompt_number": 50
    },
    {
     "cell_type": "code",
     "collapsed": false,
     "input": [
      "def has_currency(blob):\n",
      "    \"\"\"Returns count of times word is in a list\"\"\"\n",
      "    money_count = 0\n",
      "    for word in blob.words:\n",
      "        if word in currency:\n",
      "            money_count += 1\n",
      "    return money_count"
     ],
     "language": "python",
     "metadata": {},
     "outputs": [],
     "prompt_number": 58
    },
    {
     "cell_type": "code",
     "collapsed": false,
     "input": [
      "text_length = [len(blob) for blob in lines]"
     ],
     "language": "python",
     "metadata": {},
     "outputs": [],
     "prompt_number": 54
    },
    {
     "cell_type": "code",
     "collapsed": false,
     "input": [
      "money_occurence = [has_currency(blob) for blob in lines]"
     ],
     "language": "python",
     "metadata": {},
     "outputs": [],
     "prompt_number": 59
    },
    {
     "cell_type": "code",
     "collapsed": false,
     "input": [
      "spam_hundred_occurence = np.array([words_in_list(blob, top_spam) for blob in lines])"
     ],
     "language": "python",
     "metadata": {},
     "outputs": [],
     "prompt_number": 61
    },
    {
     "cell_type": "code",
     "collapsed": false,
     "input": [
      "ham_hundred_occurence = np.array([words_in_list(blob, top_ham) for blob in lines])"
     ],
     "language": "python",
     "metadata": {},
     "outputs": [],
     "prompt_number": 62
    },
    {
     "cell_type": "code",
     "collapsed": false,
     "input": [
      "sms_features = np.array([text_length, money_occurence, spam_hundred_occurence, ham_hundred_occurence])"
     ],
     "language": "python",
     "metadata": {},
     "outputs": [],
     "prompt_number": 65
    },
    {
     "cell_type": "code",
     "collapsed": false,
     "input": [
      "sms_features = sms_features.transpose()"
     ],
     "language": "python",
     "metadata": {},
     "outputs": [],
     "prompt_number": 66
    },
    {
     "cell_type": "code",
     "collapsed": false,
     "input": [
      "x_train, x_test, y_train, y_test = train_test_split(sms_features, spam_or_ham, \n",
      "                                                    test_size=0.4, random_state=0)"
     ],
     "language": "python",
     "metadata": {},
     "outputs": [],
     "prompt_number": 72
    },
    {
     "cell_type": "code",
     "collapsed": false,
     "input": [
      "from sklearn.ensemble import RandomForestClassifier\n",
      "\n",
      "classifier = RandomForestClassifier()\n",
      "classifier = classifier.fit(x_train, y_train)\n",
      "predicted = classifier.predict(x_test)\n",
      "\n",
      "print(metrics.classification_report(y_test, predicted))\n",
      "print(metrics.confusion_matrix(y_test, predicted))\n",
      "print(metrics.f1_score(y_test, predicted))"
     ],
     "language": "python",
     "metadata": {},
     "outputs": [
      {
       "output_type": "stream",
       "stream": "stdout",
       "text": [
        "             precision    recall  f1-score   support\n",
        "\n",
        "          0       0.93      0.95      0.94      1928\n",
        "          1       0.62      0.53      0.57       302\n",
        "\n",
        "avg / total       0.89      0.89      0.89      2230\n",
        "\n",
        "[[1830   98]\n",
        " [ 143  159]]\n",
        "0.568872987478\n"
       ]
      }
     ],
     "prompt_number": 75
    },
    {
     "cell_type": "code",
     "collapsed": false,
     "input": [
      "from sklearn.naive_bayes import MultinomialNB\n",
      "\n",
      "classifier = MultinomialNB()\n",
      "classifier = classifier.fit(x_train, y_train)\n",
      "predicted = classifier.predict(x_test)\n",
      "\n",
      "print(metrics.classification_report(y_test, predicted))\n",
      "print(metrics.confusion_matrix(y_test, predicted))\n",
      "print(metrics.f1_score(y_test, predicted))"
     ],
     "language": "python",
     "metadata": {},
     "outputs": [
      {
       "output_type": "stream",
       "stream": "stdout",
       "text": [
        "             precision    recall  f1-score   support\n",
        "\n",
        "          0       0.86      1.00      0.93      1928\n",
        "          1       0.00      0.00      0.00       302\n",
        "\n",
        "avg / total       0.75      0.86      0.80      2230\n",
        "\n",
        "[[1928    0]\n",
        " [ 302    0]]\n",
        "0.0\n"
       ]
      }
     ],
     "prompt_number": 87
    }
   ],
   "metadata": {}
  }
 ]
}